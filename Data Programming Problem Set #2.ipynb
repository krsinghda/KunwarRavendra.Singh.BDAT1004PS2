{
 "cells": [
  {
   "cell_type": "markdown",
   "id": "3a644830",
   "metadata": {},
   "source": [
    "# Question 1\n",
    "#### Consider the Python module and answer\n",
    "* What value is displayed when the last expression (a) is evaluated?"
   ]
  },
  {
   "cell_type": "code",
   "execution_count": 1,
   "id": "0f036320",
   "metadata": {},
   "outputs": [],
   "source": [
    "a = 0\n",
    "def b():\n",
    " global a\n",
    " a = c(a)\n",
    "def c(a):\n",
    " return a + 2"
   ]
  },
  {
   "cell_type": "code",
   "execution_count": 2,
   "id": "ea083dd2",
   "metadata": {},
   "outputs": [],
   "source": [
    "b()"
   ]
  },
  {
   "cell_type": "markdown",
   "id": "d05612c7",
   "metadata": {},
   "source": [
    "#### Upon call of function b()\n",
    "\n",
    "* Step 1 - value of a = 0 (refers global var a and change the value of global a)\n",
    "* Step 2 - call c(0) and change value of a to 2"
   ]
  },
  {
   "cell_type": "code",
   "execution_count": 3,
   "id": "b8e83069",
   "metadata": {},
   "outputs": [],
   "source": [
    "b()"
   ]
  },
  {
   "cell_type": "markdown",
   "id": "c3b5a0b1",
   "metadata": {},
   "source": [
    "#### Value of a is now 2\n",
    "#### Again call function c(2) and change value of a to 4"
   ]
  },
  {
   "cell_type": "code",
   "execution_count": 4,
   "id": "159a3528",
   "metadata": {},
   "outputs": [],
   "source": [
    "b()"
   ]
  },
  {
   "cell_type": "markdown",
   "id": "ca3b6654",
   "metadata": {},
   "source": [
    "#### Value of a is now 4\n",
    "#### Again call function c(2) and change value of a to 6"
   ]
  },
  {
   "cell_type": "code",
   "execution_count": 5,
   "id": "6aa1e232",
   "metadata": {},
   "outputs": [
    {
     "data": {
      "text/plain": [
       "6"
      ]
     },
     "execution_count": 5,
     "metadata": {},
     "output_type": "execute_result"
    }
   ],
   "source": [
    "a"
   ]
  },
  {
   "cell_type": "markdown",
   "id": "2ac3730d",
   "metadata": {},
   "source": [
    "# Question 2\n",
    "\n",
    "#### Function fileLength(), given to you, takes the name of a file as input and returns the length of the file. If the file cannot be found by the interpreter or if it cannot be read as a text file, an exception will be raised. Modify function fileLength() so that a friendly message is printed instead."
   ]
  },
  {
   "cell_type": "code",
   "execution_count": 9,
   "id": "dcf0fac7",
   "metadata": {},
   "outputs": [],
   "source": [
    "def file_length(name):\n",
    "    try:\n",
    "        file = open(name)\n",
    "        Content = file.read()\n",
    "        file.close()\n",
    "        print(len(Content))\n",
    "        \n",
    "    # catch IO relataed errors   \n",
    "    except IOError:\n",
    "        print(\"File\", name, \"not found. Please check directory\")\n",
    "    \n",
    "    # catch other errors\n",
    "    except:\n",
    "        print(\"Please check directory!\")"
   ]
  },
  {
   "cell_type": "code",
   "execution_count": 10,
   "id": "b93ad76d",
   "metadata": {},
   "outputs": [
    {
     "name": "stdout",
     "output_type": "stream",
     "text": [
      "File midterm.py not found. Please check directory\n"
     ]
    }
   ],
   "source": [
    "file_length('midterm.py')"
   ]
  },
  {
   "cell_type": "code",
   "execution_count": 11,
   "id": "57f4728f",
   "metadata": {},
   "outputs": [
    {
     "name": "stdout",
     "output_type": "stream",
     "text": [
      "23\n"
     ]
    }
   ],
   "source": [
    "file_length('myname.txt')"
   ]
  },
  {
   "cell_type": "markdown",
   "id": "907b56c4",
   "metadata": {},
   "source": [
    "# Question 3\n",
    "#### Write a class named Marsupial"
   ]
  },
  {
   "cell_type": "code",
   "execution_count": 12,
   "id": "5963a5a9",
   "metadata": {},
   "outputs": [],
   "source": [
    "class Marsupial:\n",
    "    \n",
    "    def __init__(self):\n",
    "        self.List = []\n",
    "    \n",
    "    def put_in_pouch(self,species):\n",
    "        \n",
    "        return self.List.append(species)\n",
    "        \n",
    "    def pouch_contents(self):\n",
    "        return self.List"
   ]
  },
  {
   "cell_type": "code",
   "execution_count": 13,
   "id": "66b77b0d",
   "metadata": {},
   "outputs": [
    {
     "data": {
      "text/plain": [
       "['doll', 'firetruck', 'kitten']"
      ]
     },
     "execution_count": 13,
     "metadata": {},
     "output_type": "execute_result"
    }
   ],
   "source": [
    "m = Marsupial()\n",
    "m.put_in_pouch('doll')\n",
    "m.put_in_pouch('firetruck')\n",
    "m.put_in_pouch('kitten')\n",
    "m.pouch_contents()"
   ]
  },
  {
   "cell_type": "markdown",
   "id": "31c78547",
   "metadata": {},
   "source": [
    "### Now write a class named Kangaroo as a subclass of Marsupial that inherits all the attributes of Marsupial and also:\n",
    "* extends the Marsupial \\__init\\__ constructor to take, as input, the coordinates x and y of the Kangaroo object\n",
    "* supports method jump that takes number values dx and dy as input and moves the kangaroo by dx units along the x-axis and by dy units along the y-axis,\n",
    "* verloads the \\__str\\__ operator so it behaves as shown below"
   ]
  },
  {
   "cell_type": "code",
   "execution_count": 14,
   "id": "22191d53",
   "metadata": {},
   "outputs": [],
   "source": [
    "class Kangaroo(Marsupial):\n",
    "    \n",
    "    def __init__(self, Xcordinate, Ycordinate):\n",
    "        self.X = Xcordinate\n",
    "        self.Y = Ycordinate\n",
    "        \n",
    "        Marsupial.__init__(self)\n",
    "       \n",
    "        \n",
    "    #def put_in_pouch(self,species):\n",
    "        #return self.List\n",
    "        \n",
    "    #def pouch_contents(self):\n",
    "        #return self.List\n",
    "    \n",
    "    #def setx(self,Xcord):\n",
    "        #self.X = Xcord\n",
    "        \n",
    "    #def setx(self,Ycord):\n",
    "        #self.Y = Ycord\n",
    "        \n",
    "    #def get(self):\n",
    "        #return (self.X,self.Y)\n",
    "    \n",
    "    def jump(self, dx, dy):\n",
    "        self.X += dx\n",
    "        self.Y += dy\n",
    "        \n",
    "    def __repr__(self):\n",
    "        return (\"I\\'m Kangaroo located at coordinates ({},{})\" .format(self.X,self.Y))"
   ]
  },
  {
   "cell_type": "code",
   "execution_count": 15,
   "id": "62c2131d",
   "metadata": {},
   "outputs": [
    {
     "data": {
      "text/plain": [
       "['doll', 'firetruck', 'kitten']"
      ]
     },
     "execution_count": 15,
     "metadata": {},
     "output_type": "execute_result"
    }
   ],
   "source": [
    "k = Kangaroo(0,0)\n",
    "#print(k)\n",
    "k.put_in_pouch('doll')\n",
    "k.put_in_pouch('firetruck')\n",
    "k.put_in_pouch('kitten') \n",
    "k.pouch_contents()"
   ]
  },
  {
   "cell_type": "code",
   "execution_count": 16,
   "id": "2fad6b71",
   "metadata": {},
   "outputs": [
    {
     "name": "stdout",
     "output_type": "stream",
     "text": [
      "I'm Kangaroo located at coordinates (3,0)\n"
     ]
    }
   ],
   "source": [
    "k.jump(1,0)\n",
    "k.jump(1,0)\n",
    "k.jump(1,0)\n",
    "print(k)"
   ]
  },
  {
   "cell_type": "markdown",
   "id": "b68cc7c2",
   "metadata": {},
   "source": [
    "# Question 4\n",
    "#### Write function collatz() that takes a positive integer x as input and prints the Collatz sequence starting at x. A Collatz sequence is obtained by repeatedly applying this rule to the previous number x in the sequence:\n",
    "#### x = 𝑥/2 𝑖𝑓 𝑥 𝑖𝑠 𝑒𝑣𝑒𝑛\n",
    "#### x = 3𝑥+1 𝑖𝑓 𝑥 𝑖𝑠 𝑜𝑑𝑑\n",
    "#### Your function should stop when the sequence gets to number 1. Your implementation must be recursive, without any loops."
   ]
  },
  {
   "cell_type": "code",
   "execution_count": 17,
   "id": "ab1f96a1",
   "metadata": {},
   "outputs": [],
   "source": [
    "def collatz(X):\n",
    "    print(X)\n",
    "    if X == 1:\n",
    "        return\n",
    "    else:\n",
    "        if X % 2 == 0:\n",
    "            return collatz(int(X/2))\n",
    "        else:\n",
    "            return collatz(int(3*X + 1))"
   ]
  },
  {
   "cell_type": "code",
   "execution_count": 18,
   "id": "5f269f5e",
   "metadata": {},
   "outputs": [
    {
     "name": "stdout",
     "output_type": "stream",
     "text": [
      "1\n"
     ]
    }
   ],
   "source": [
    "collatz(1)"
   ]
  },
  {
   "cell_type": "code",
   "execution_count": 19,
   "id": "9035290c",
   "metadata": {},
   "outputs": [
    {
     "name": "stdout",
     "output_type": "stream",
     "text": [
      "10\n",
      "5\n",
      "16\n",
      "8\n",
      "4\n",
      "2\n",
      "1\n"
     ]
    }
   ],
   "source": [
    "collatz(10)"
   ]
  },
  {
   "cell_type": "markdown",
   "id": "59ab8132",
   "metadata": {},
   "source": [
    "# Question 5\n",
    "#### Write a recursive method binary() that takes a non-negative integer n and prints the binary representation of integer n."
   ]
  },
  {
   "cell_type": "code",
   "execution_count": 20,
   "id": "ad7f2bfa",
   "metadata": {},
   "outputs": [],
   "source": [
    "def binary(x):\n",
    "    if x == 0:\n",
    "        return 0\n",
    "    else:\n",
    "        return (x % 2 + 10 * binary(int(x // 2)))"
   ]
  },
  {
   "cell_type": "code",
   "execution_count": 21,
   "id": "ffb164de",
   "metadata": {},
   "outputs": [
    {
     "data": {
      "text/plain": [
       "0"
      ]
     },
     "execution_count": 21,
     "metadata": {},
     "output_type": "execute_result"
    }
   ],
   "source": [
    "binary(0)"
   ]
  },
  {
   "cell_type": "code",
   "execution_count": 22,
   "id": "e90b9fcd",
   "metadata": {},
   "outputs": [
    {
     "data": {
      "text/plain": [
       "1"
      ]
     },
     "execution_count": 22,
     "metadata": {},
     "output_type": "execute_result"
    }
   ],
   "source": [
    "binary(1)"
   ]
  },
  {
   "cell_type": "code",
   "execution_count": 23,
   "id": "c36007a9",
   "metadata": {},
   "outputs": [
    {
     "data": {
      "text/plain": [
       "11"
      ]
     },
     "execution_count": 23,
     "metadata": {},
     "output_type": "execute_result"
    }
   ],
   "source": [
    "binary(3)"
   ]
  },
  {
   "cell_type": "code",
   "execution_count": 24,
   "id": "cb0fbf6f",
   "metadata": {},
   "outputs": [
    {
     "data": {
      "text/plain": [
       "1001"
      ]
     },
     "execution_count": 24,
     "metadata": {},
     "output_type": "execute_result"
    }
   ],
   "source": [
    "binary(9)"
   ]
  },
  {
   "cell_type": "markdown",
   "id": "e983b0cb",
   "metadata": {},
   "source": [
    "# Question 6\n",
    "#### Implement a class named HeadingParser that can be used to parse an HTML document, and retrieve and print all the headings in the document. You should implement your class as a subclass of HTMLParser, defined in Standard Library module html.parser. When fed a string containing HTML code, your class should print the headings, one per line and in the order in which they appear in the document. Each heading should be indented as follows: an h1 heading should have indentation 0, and h2 heading should have indentation 1, etc. Test your implementation using w3c.html."
   ]
  },
  {
   "cell_type": "code",
   "execution_count": 25,
   "id": "32d7c222",
   "metadata": {},
   "outputs": [],
   "source": [
    "from html.parser import HTMLParser \n",
    "\n",
    "class HeadingParser(HTMLParser):\n",
    "    \n",
    "    def handle_starttag(self, tag, attrs):\n",
    "        self.tag_List = []\n",
    "        self.tag_List = tag\n",
    "        \n",
    "    def handle_data(self, data):\n",
    "        if self.tag_List == 'h1':\n",
    "            print(data)\n",
    "            \n",
    "        elif self.tag_List == 'h2':\n",
    "            print(\" \", data)\n",
    "            \n",
    "        elif self.tag_List == 'h3':\n",
    "            print(\"  \", data)\n",
    "            \n",
    "        elif self.tag_List == 'h4':\n",
    "            print(\"   \", data)\n",
    "            \n",
    "        elif self.tag_List == 'h5':\n",
    "            print(\"    \", data)\n",
    "            \n",
    "        elif self.tag_List == 'h6':\n",
    "            print(\"     \", data)"
   ]
  },
  {
   "cell_type": "code",
   "execution_count": 29,
   "id": "43b9e8a7",
   "metadata": {},
   "outputs": [
    {
     "name": "stdout",
     "output_type": "stream",
     "text": [
      "W3C Mission\n",
      "\n",
      "\n",
      "  Principles\n",
      "  \n",
      "\n"
     ]
    }
   ],
   "source": [
    "infile = open('w3c.html')\n",
    "content = infile.read()\n",
    "infile.close()\n",
    "hp = HeadingParser()\n",
    "hp.feed(content)"
   ]
  },
  {
   "cell_type": "markdown",
   "id": "f738cecf",
   "metadata": {},
   "source": [
    "# Question 7\n",
    "#### Implement recursive function webdir() that takes as input: a URL (as a string) and non-negative integers depth and indent. Your function should visit every web page reachable from the starting URL web page in depth clicks or less, and print each web page's URL. As shown below, indentation, specified by indent, should be used to indicate the depth of a URL."
   ]
  },
  {
   "cell_type": "code",
   "execution_count": 56,
   "id": "09a4de0a",
   "metadata": {},
   "outputs": [],
   "source": [
    "from urllib.request import urlopen\n",
    "from urllib.parse import urljoin\n",
    "\n",
    "from html.parser import HTMLParser\n",
    "import re\n",
    "def urlanalyzer(url,indent,depth):\n",
    "    \n",
    "    print(indent*\"\" ,url)           \n",
    "\n",
    "    # obtain links in the web page\n",
    "    content = urlopen(url).read().decode()\n",
    "    collector = Collector(url)\n",
    "    collector.feed(content)\n",
    "    urls = collector.getLinks()          \n",
    "\n",
    "    return urls"
   ]
  },
  {
   "cell_type": "code",
   "execution_count": 57,
   "id": "8e773b53",
   "metadata": {},
   "outputs": [],
   "source": [
    "from urllib.parse import urljoin\n",
    "from html.parser import HTMLParser\n",
    "from urllib.request import urlopen\n",
    "\n",
    "class Collector(HTMLParser):\n",
    "    'collects hyperlink URLs into a list'\n",
    "\n",
    "    def __init__(self, url):\n",
    "        'initializes parser, the url, and a list'\n",
    "        HTMLParser.__init__(self)\n",
    "        self.url = url\n",
    "        self.links = []\n",
    "\n",
    "    \n",
    "    def handle_starttag(self, tag, attrs):\n",
    "        'collects hyperlink URLs in their absolute format'\n",
    "        if tag == 'a':\n",
    "            for attr in attrs:\n",
    "                if attr[0] == 'href':\n",
    "                    # construct absolute URL\n",
    "                    absolute = urljoin(self.url, attr[1])\n",
    "                    if absolute[:4] == 'http': # collect HTTP URLs\n",
    "                        self.links.append(absolute)\n",
    "                        \n",
    "    def getLinks(self):\n",
    "        'returns hyperlinks URLs in their absolute format'\n",
    "        return self.links"
   ]
  },
  {
   "cell_type": "code",
   "execution_count": 58,
   "id": "03b5cd7e",
   "metadata": {},
   "outputs": [],
   "source": [
    "visited = set() \n",
    "\n",
    "def WebDir(url,indent,depth):\n",
    "\n",
    "    # add url to set of visited pages\n",
    "    global visited    \n",
    "    visited.add(url)\n",
    "\n",
    "    # analyze() returns a list of hyperlink URLs in web page url \n",
    "    links = urlanalyzer(url,indent,depth)\n",
    "\n",
    "    # recursively continue crawl from every link in links\n",
    "    for link in links:\n",
    "        # follow link only if not visited\n",
    "        if link not in visited:\n",
    "            try:\n",
    "                WebDir(link, indent,depth)\n",
    "            except:\n",
    "                pass"
   ]
  },
  {
   "cell_type": "code",
   "execution_count": 59,
   "id": "9e4d7007",
   "metadata": {},
   "outputs": [
    {
     "name": "stdout",
     "output_type": "stream",
     "text": [
      " http://reed.cs.depaul.edu/lperkovic/one.html\n",
      " http://reed.cs.depaul.edu/lperkovic/two.html\n",
      " http://reed.cs.depaul.edu/lperkovic/four.html\n",
      " http://reed.cs.depaul.edu/lperkovic/five.html\n",
      " http://reed.cs.depaul.edu/lperkovic/three.html\n"
     ]
    }
   ],
   "source": [
    "WebDir('http://reed.cs.depaul.edu/lperkovic/one.html',2,0)"
   ]
  },
  {
   "cell_type": "markdown",
   "id": "941cba1e",
   "metadata": {},
   "source": [
    "# Question 8\n",
    "#### Write SQL queries on the below database table"
   ]
  },
  {
   "cell_type": "markdown",
   "id": "1ca1d761",
   "metadata": {},
   "source": [
    "#### installing sql "
   ]
  },
  {
   "cell_type": "code",
   "execution_count": 38,
   "id": "0d9755da",
   "metadata": {},
   "outputs": [
    {
     "name": "stdout",
     "output_type": "stream",
     "text": [
      "Collecting ipython-sql\n",
      "  Downloading ipython_sql-0.4.0-py3-none-any.whl (19 kB)\n",
      "Requirement already satisfied: six in c:\\users\\91952\\anaconda3\\lib\\site-packages (from ipython-sql) (1.15.0)\n",
      "Collecting prettytable<1\n",
      "  Downloading prettytable-0.7.2.zip (28 kB)\n",
      "Requirement already satisfied: sqlalchemy>=0.6.7 in c:\\users\\91952\\anaconda3\\lib\\site-packages (from ipython-sql) (1.4.7)\n",
      "Requirement already satisfied: ipython>=1.0 in c:\\users\\91952\\anaconda3\\lib\\site-packages (from ipython-sql) (7.22.0)\n",
      "Requirement already satisfied: ipython-genutils>=0.1.0 in c:\\users\\91952\\anaconda3\\lib\\site-packages (from ipython-sql) (0.2.0)\n",
      "Collecting sqlparse\n",
      "  Downloading sqlparse-0.4.1-py3-none-any.whl (42 kB)\n",
      "Requirement already satisfied: backcall in c:\\users\\91952\\anaconda3\\lib\\site-packages (from ipython>=1.0->ipython-sql) (0.2.0)\n",
      "Requirement already satisfied: prompt-toolkit!=3.0.0,!=3.0.1,<3.1.0,>=2.0.0 in c:\\users\\91952\\anaconda3\\lib\\site-packages (from ipython>=1.0->ipython-sql) (3.0.17)\n",
      "Requirement already satisfied: setuptools>=18.5 in c:\\users\\91952\\anaconda3\\lib\\site-packages (from ipython>=1.0->ipython-sql) (52.0.0.post20210125)\n",
      "Requirement already satisfied: decorator in c:\\users\\91952\\anaconda3\\lib\\site-packages (from ipython>=1.0->ipython-sql) (5.0.6)\n",
      "Requirement already satisfied: jedi>=0.16 in c:\\users\\91952\\anaconda3\\lib\\site-packages (from ipython>=1.0->ipython-sql) (0.17.2)\n",
      "Requirement already satisfied: pygments in c:\\users\\91952\\anaconda3\\lib\\site-packages (from ipython>=1.0->ipython-sql) (2.8.1)\n",
      "Requirement already satisfied: colorama in c:\\users\\91952\\anaconda3\\lib\\site-packages (from ipython>=1.0->ipython-sql) (0.4.4)\n",
      "Requirement already satisfied: pickleshare in c:\\users\\91952\\anaconda3\\lib\\site-packages (from ipython>=1.0->ipython-sql) (0.7.5)\n",
      "Requirement already satisfied: traitlets>=4.2 in c:\\users\\91952\\anaconda3\\lib\\site-packages (from ipython>=1.0->ipython-sql) (5.0.5)\n",
      "Requirement already satisfied: parso<0.8.0,>=0.7.0 in c:\\users\\91952\\anaconda3\\lib\\site-packages (from jedi>=0.16->ipython>=1.0->ipython-sql) (0.7.0)\n",
      "Requirement already satisfied: wcwidth in c:\\users\\91952\\anaconda3\\lib\\site-packages (from prompt-toolkit!=3.0.0,!=3.0.1,<3.1.0,>=2.0.0->ipython>=1.0->ipython-sql) (0.2.5)\n",
      "Requirement already satisfied: greenlet!=0.4.17 in c:\\users\\91952\\anaconda3\\lib\\site-packages (from sqlalchemy>=0.6.7->ipython-sql) (1.0.0)\n",
      "Building wheels for collected packages: prettytable\n",
      "  Building wheel for prettytable (setup.py): started\n",
      "  Building wheel for prettytable (setup.py): finished with status 'done'\n",
      "  Created wheel for prettytable: filename=prettytable-0.7.2-py3-none-any.whl size=13699 sha256=cacf038bf9245940805941ff8b1389f202c7c9a23aa6e5d76703d911a2659f33\n",
      "  Stored in directory: c:\\users\\91952\\appdata\\local\\pip\\cache\\wheels\\48\\6d\\77\\9517cb933af254f51a446f1a5ec9c2be3e45f17384940bce68\n",
      "Successfully built prettytable\n",
      "Installing collected packages: sqlparse, prettytable, ipython-sql\n",
      "Successfully installed ipython-sql-0.4.0 prettytable-0.7.2 sqlparse-0.4.1\n"
     ]
    }
   ],
   "source": [
    "!pip install ipython-sql"
   ]
  },
  {
   "cell_type": "markdown",
   "id": "3966449f",
   "metadata": {},
   "source": [
    "## Insert values in Db"
   ]
  },
  {
   "cell_type": "code",
   "execution_count": 39,
   "id": "946062ad",
   "metadata": {},
   "outputs": [
    {
     "data": {
      "text/plain": [
       "<sqlite3.Cursor at 0x23d67529ea0>"
      ]
     },
     "execution_count": 39,
     "metadata": {},
     "output_type": "execute_result"
    }
   ],
   "source": [
    "import sqlite3\n",
    "con = sqlite3.connect('web.db')\n",
    "cur = con.cursor()\n",
    "\n",
    "#create table\n",
    "cur.execute(\"CREATE TABLE TempData (City text, Country text, Season text, Temperature float, Rainfall float)\")\n",
    "\n",
    "#Insert first row values into table\n",
    "cur.execute(\"INSERT INTO TempData VALUES ('Mumbai','India','Winter',24.8,5.9)\")\n",
    "cur.execute(\"INSERT INTO TempData VALUES ('Mumbai','India','Spring',28.4,16.2)\")\n",
    "cur.execute(\"INSERT INTO TempData VALUES ('Mumbai','India','Summer',27.9,1549.4)\")\n",
    "cur.execute(\"INSERT INTO TempData VALUES ('Mumbai','India','Fall',27.6,346.0)\")\n",
    "cur.execute(\"INSERT INTO TempData VALUES ('London','United Kingdom','Winter',4.2,207.7)\")\n",
    "cur.execute(\"INSERT INTO TempData VALUES ('London','United Kingdom','Spring',8.3,169.6)\")\n",
    "cur.execute(\"INSERT INTO TempData VALUES ('London','United Kingdom','Summer',15.7,157.0)\")\n",
    "cur.execute(\"INSERT INTO TempData VALUES ('London','United Kingdom','Fall',10.4,218.5)\")\n",
    "cur.execute(\"INSERT INTO TempData VALUES ('Cairo','Egypt','Winter',13.6,16.5)\")\n",
    "cur.execute(\"INSERT INTO TempData VALUES ('Cairo','Egypt','Spring',20.7,6.5)\")\n",
    "cur.execute(\"INSERT INTO TempData VALUES ('Cairo','Egypt','Summer',27.7,0.1)\")\n",
    "cur.execute(\"INSERT INTO TempData VALUES ('Cairo','Egypt','Fall',22.2,4.5)\")"
   ]
  },
  {
   "cell_type": "markdown",
   "id": "a467cb50",
   "metadata": {},
   "source": [
    "### A. Display all Temperature data."
   ]
  },
  {
   "cell_type": "code",
   "execution_count": 40,
   "id": "b45b017e",
   "metadata": {},
   "outputs": [
    {
     "name": "stdout",
     "output_type": "stream",
     "text": [
      "(24.8,)\n",
      "(28.4,)\n",
      "(27.9,)\n",
      "(27.6,)\n",
      "(4.2,)\n",
      "(8.3,)\n",
      "(15.7,)\n",
      "(10.4,)\n",
      "(13.6,)\n",
      "(20.7,)\n",
      "(27.7,)\n",
      "(22.2,)\n"
     ]
    }
   ],
   "source": [
    "cur.execute('SELECT Temperature FROM TempData')\n",
    "\n",
    "Asol = cur.fetchall()\n",
    "for i in Asol:\n",
    "    print(i)"
   ]
  },
  {
   "cell_type": "markdown",
   "id": "ea895259",
   "metadata": {},
   "source": [
    "### B. Display all the cities, but without repetition."
   ]
  },
  {
   "cell_type": "code",
   "execution_count": 41,
   "id": "7ecb0c0b",
   "metadata": {},
   "outputs": [
    {
     "name": "stdout",
     "output_type": "stream",
     "text": [
      "('Mumbai', 'India')\n",
      "('London', 'United Kingdom')\n",
      "('Cairo', 'Egypt')\n"
     ]
    }
   ],
   "source": [
    "cur.execute('select DISTINCT City, Country from TempData')\n",
    "Bsol = cur.fetchall()\n",
    "for i in Bsol:\n",
    "    print(i)"
   ]
  },
  {
   "cell_type": "markdown",
   "id": "a3e7c395",
   "metadata": {},
   "source": [
    "### C. Display all the records for India."
   ]
  },
  {
   "cell_type": "code",
   "execution_count": 42,
   "id": "980b6189",
   "metadata": {},
   "outputs": [
    {
     "name": "stdout",
     "output_type": "stream",
     "text": [
      "('Mumbai', 'India', 'Winter', 24.8, 5.9)\n",
      "('Mumbai', 'India', 'Spring', 28.4, 16.2)\n",
      "('Mumbai', 'India', 'Summer', 27.9, 1549.4)\n",
      "('Mumbai', 'India', 'Fall', 27.6, 346.0)\n"
     ]
    }
   ],
   "source": [
    "cur.execute('select * from TempData WHERE Country = \"India\" ')\n",
    "Csol = cur.fetchall()\n",
    "for i in Csol:\n",
    "    print(i)"
   ]
  },
  {
   "cell_type": "markdown",
   "id": "a1cc9601",
   "metadata": {},
   "source": [
    "### D. Display all the Fall records."
   ]
  },
  {
   "cell_type": "code",
   "execution_count": 43,
   "id": "bc2fa165",
   "metadata": {},
   "outputs": [
    {
     "name": "stdout",
     "output_type": "stream",
     "text": [
      "('Mumbai', 'India', 'Fall', 27.6, 346.0)\n",
      "('London', 'United Kingdom', 'Fall', 10.4, 218.5)\n",
      "('Cairo', 'Egypt', 'Fall', 22.2, 4.5)\n"
     ]
    }
   ],
   "source": [
    "cur.execute('select * from TempData WHERE Season = \"Fall\" ')\n",
    "Dsol = cur.fetchall()\n",
    "for i in Dsol:\n",
    "    print(i)"
   ]
  },
  {
   "cell_type": "markdown",
   "id": "f45eeb1f",
   "metadata": {},
   "source": [
    "### E. Display the city, country, and season for which the average rainfall is between 200 and 400 millimeters."
   ]
  },
  {
   "cell_type": "code",
   "execution_count": 44,
   "id": "07114a56",
   "metadata": {},
   "outputs": [
    {
     "name": "stdout",
     "output_type": "stream",
     "text": [
      "('Mumbai', 'India', 'Fall')\n",
      "('London', 'United Kingdom', 'Winter')\n",
      "('London', 'United Kingdom', 'Fall')\n"
     ]
    }
   ],
   "source": [
    "cur.execute('select City, Country, Season from TempData WHERE Rainfall >=200 and Rainfall <=400 ')\n",
    "Esol = cur.fetchall()\n",
    "for i in Esol:\n",
    "    print(i)"
   ]
  },
  {
   "cell_type": "markdown",
   "id": "ae6d600b",
   "metadata": {},
   "source": [
    "### F. Display the city and country for which the average Fall temperature is above 20 degrees, in increasing temperature order."
   ]
  },
  {
   "cell_type": "code",
   "execution_count": 45,
   "id": "e6c70c53",
   "metadata": {},
   "outputs": [
    {
     "name": "stdout",
     "output_type": "stream",
     "text": [
      "('Cairo', 'Egypt')\n",
      "('Mumbai', 'India')\n"
     ]
    }
   ],
   "source": [
    "cur.execute('select City, Country from TempData WHERE Season = \"Fall\" and Temperature > 20 ORDER BY Temperature')\n",
    "Fsol = cur.fetchall()\n",
    "for i in Fsol:\n",
    "    print(i)"
   ]
  },
  {
   "cell_type": "markdown",
   "id": "61a4c885",
   "metadata": {},
   "source": [
    "### G. Display the total annual rainfall for Cairo."
   ]
  },
  {
   "cell_type": "code",
   "execution_count": 46,
   "id": "86790274",
   "metadata": {},
   "outputs": [
    {
     "name": "stdout",
     "output_type": "stream",
     "text": [
      "(27.6,)\n"
     ]
    }
   ],
   "source": [
    "cur.execute('select SUM(Rainfall) from TempData WHERE City = \"Cairo\" ')\n",
    "Gsol = cur.fetchall()\n",
    "for i in Gsol:\n",
    "    print(i)"
   ]
  },
  {
   "cell_type": "markdown",
   "id": "808c9fc3",
   "metadata": {},
   "source": [
    "### H. Display the total rainfall for each season."
   ]
  },
  {
   "cell_type": "code",
   "execution_count": 47,
   "id": "c0533962",
   "metadata": {},
   "outputs": [
    {
     "name": "stdout",
     "output_type": "stream",
     "text": [
      "(569.0, 'Fall')\n",
      "(192.29999999999998, 'Spring')\n",
      "(1706.5, 'Summer')\n",
      "(230.1, 'Winter')\n"
     ]
    }
   ],
   "source": [
    "cur.execute('select SUM(Rainfall),Season from TempData GROUP BY Season ')\n",
    "Hsol = cur.fetchall()\n",
    "for i in Hsol:\n",
    "    print(i)"
   ]
  },
  {
   "cell_type": "markdown",
   "id": "38857ca7",
   "metadata": {},
   "source": [
    "# Question 9"
   ]
  },
  {
   "cell_type": "code",
   "execution_count": 48,
   "id": "95686b82",
   "metadata": {},
   "outputs": [
    {
     "data": {
      "text/plain": [
       "['The', 'quick', 'brown', 'fox', 'jumps', 'over', 'the', 'lazy', 'dog']"
      ]
     },
     "execution_count": 48,
     "metadata": {},
     "output_type": "execute_result"
    }
   ],
   "source": [
    "words = ['The', 'quick', 'brown', 'fox', 'jumps', 'over', 'the', 'lazy', 'dog']\n",
    "words"
   ]
  },
  {
   "cell_type": "markdown",
   "id": "661372cd",
   "metadata": {},
   "source": [
    "### Write list comprehension expressions that use list words and generate the following lists:\n",
    "#### A) ['THE', 'QUICK', 'BROWN', 'FOX', 'JUMPS', 'OVER', 'THE', 'LAZY', 'DOG']"
   ]
  },
  {
   "cell_type": "code",
   "execution_count": 49,
   "id": "93c8ce70",
   "metadata": {},
   "outputs": [
    {
     "data": {
      "text/plain": [
       "['THE', 'QUICK', 'BROWN', 'FOX', 'JUMPS', 'OVER', 'THE', 'LAZY', 'DOG']"
      ]
     },
     "execution_count": 49,
     "metadata": {},
     "output_type": "execute_result"
    }
   ],
   "source": [
    "X = [i.upper() for i in words]\n",
    "X"
   ]
  },
  {
   "cell_type": "markdown",
   "id": "081fc43b",
   "metadata": {},
   "source": [
    "#### B) ['the', 'quick', 'brown', 'fox', 'jumps', 'over', 'the', 'lazy', 'dog']"
   ]
  },
  {
   "cell_type": "code",
   "execution_count": 50,
   "id": "f5025b94",
   "metadata": {},
   "outputs": [
    {
     "data": {
      "text/plain": [
       "['the', 'quick', 'brown', 'fox', 'jumps', 'over', 'the', 'lazy', 'dog']"
      ]
     },
     "execution_count": 50,
     "metadata": {},
     "output_type": "execute_result"
    }
   ],
   "source": [
    "X = [i.lower() for i in words]\n",
    "X"
   ]
  },
  {
   "cell_type": "markdown",
   "id": "dd3fffdb",
   "metadata": {},
   "source": [
    "#### C) [3, 5, 5, 3, 5, 4, 3, 4, 3] (the list of lengths of words in list words)."
   ]
  },
  {
   "cell_type": "code",
   "execution_count": 51,
   "id": "b7ed4859",
   "metadata": {},
   "outputs": [
    {
     "data": {
      "text/plain": [
       "[3, 5, 5, 3, 5, 4, 3, 4, 3]"
      ]
     },
     "execution_count": 51,
     "metadata": {},
     "output_type": "execute_result"
    }
   ],
   "source": [
    "X = [len(i) for i in words]\n",
    "X"
   ]
  },
  {
   "cell_type": "markdown",
   "id": "764e45ea",
   "metadata": {},
   "source": [
    "#### D) [['THE', 'the', 3], ['QUICK', 'quick', 5], ['BROWN', 'brown', 5], ['FOX', 'fox', 3], ['JUMPS', 'jumps', 5], ['OVER', 'over', 4], ['THE', 'the', 3], ['LAZY', 'lazy', 4], ['DOG', 'dog', 3]] (the list containing a list for every word of list words, where each list contains the word in uppercase and lowercase and the length of the word.)"
   ]
  },
  {
   "cell_type": "code",
   "execution_count": 52,
   "id": "b2353208",
   "metadata": {},
   "outputs": [
    {
     "data": {
      "text/plain": [
       "[['THE', 'the', 3],\n",
       " ['QUICK', 'quick', 5],\n",
       " ['BROWN', 'brown', 5],\n",
       " ['FOX', 'fox', 3],\n",
       " ['JUMPS', 'jumps', 5],\n",
       " ['OVER', 'over', 4],\n",
       " ['THE', 'the', 3],\n",
       " ['LAZY', 'lazy', 4],\n",
       " ['DOG', 'dog', 3]]"
      ]
     },
     "execution_count": 52,
     "metadata": {},
     "output_type": "execute_result"
    }
   ],
   "source": [
    "X = [[i.upper(), i.lower(), len(i)] for i in words]\n",
    "X"
   ]
  },
  {
   "cell_type": "markdown",
   "id": "d603b835",
   "metadata": {},
   "source": [
    "#### E) The list of words in list words containing 4 or more characters."
   ]
  },
  {
   "cell_type": "code",
   "execution_count": 53,
   "id": "5013faaa",
   "metadata": {},
   "outputs": [
    {
     "data": {
      "text/plain": [
       "['quick', 'brown', 'jumps', 'over', 'lazy']"
      ]
     },
     "execution_count": 53,
     "metadata": {},
     "output_type": "execute_result"
    }
   ],
   "source": [
    "X = [i for i in words if len(i)>= 4]\n",
    "X"
   ]
  }
 ],
 "metadata": {
  "kernelspec": {
   "display_name": "Python 3",
   "language": "python",
   "name": "python3"
  },
  "language_info": {
   "codemirror_mode": {
    "name": "ipython",
    "version": 3
   },
   "file_extension": ".py",
   "mimetype": "text/x-python",
   "name": "python",
   "nbconvert_exporter": "python",
   "pygments_lexer": "ipython3",
   "version": "3.8.8"
  }
 },
 "nbformat": 4,
 "nbformat_minor": 5
}
